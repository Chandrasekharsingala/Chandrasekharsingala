{
 "cells": [
  {
   "cell_type": "code",
   "execution_count": 5,
   "id": "099bc41a",
   "metadata": {},
   "outputs": [],
   "source": [
    "import requests\n",
    "from bs4 import BeautifulSoup\n",
    "class Scrapper:\n",
    "    def __init__(self,url,item):\n",
    "        # https://www.flipkart.com/search?q=mobiles\n",
    "        self.final_url = url + '/search?q=' + item\n",
    "        self.pull_data(self.final_url)\n",
    "    def pull_data(self, finalurl):\n",
    "        print(finalurl)\n",
    "        self.result = requests.get(finalurl)\n",
    "        self.soup=BeautifulSoup(self.result.content)\n",
    "        self.tagline = self.soup.find('div',attrs={'class','_4rR01T'})\n",
    "        #print(self.tagline)\n",
    "        print(self.tagline.text)\n",
    "        self.ratings = self.soup.find('div',attrs={'class','_3LWZlK'})\n",
    "        #print(self.ratings)\n",
    "        print(self.ratings.text)\n",
    "        self.price = self.soup.find('div',attrs={'class','_30jeq3 _1_WHN1'})\n",
    "        #print(self.price)\n",
    "        print(self.price.text)\n",
    "    def refine_data(self):\n",
    "        pass"
   ]
  },
  {
   "cell_type": "code",
   "execution_count": 6,
   "id": "0163f0dd",
   "metadata": {},
   "outputs": [
    {
     "name": "stdout",
     "output_type": "stream",
     "text": [
      "https://www.flipkart.com/search?q=mobiles\n",
      "realme C21Y (Cross Black, 64 GB)\n",
      "4.6\n",
      "₹9,999\n"
     ]
    }
   ],
   "source": [
    "scrapper=Scrapper('https://www.flipkart.com','mobiles')"
   ]
  },
  {
   "cell_type": "code",
   "execution_count": 3,
   "id": "8459f4ea",
   "metadata": {},
   "outputs": [],
   "source": []
  },
  {
   "cell_type": "code",
   "execution_count": null,
   "id": "c7fbe658",
   "metadata": {},
   "outputs": [],
   "source": []
  },
  {
   "cell_type": "code",
   "execution_count": null,
   "id": "748b3d2b",
   "metadata": {},
   "outputs": [],
   "source": []
  }
 ],
 "metadata": {
  "kernelspec": {
   "display_name": "Python 3 (ipykernel)",
   "language": "python",
   "name": "python3"
  },
  "language_info": {
   "codemirror_mode": {
    "name": "ipython",
    "version": 3
   },
   "file_extension": ".py",
   "mimetype": "text/x-python",
   "name": "python",
   "nbconvert_exporter": "python",
   "pygments_lexer": "ipython3",
   "version": "3.9.7"
  }
 },
 "nbformat": 4,
 "nbformat_minor": 5
}
